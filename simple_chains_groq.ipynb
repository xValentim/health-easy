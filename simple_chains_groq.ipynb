{
 "cells": [
  {
   "cell_type": "code",
   "execution_count": 1,
   "metadata": {},
   "outputs": [
    {
     "data": {
      "text/plain": [
       "True"
      ]
     },
     "execution_count": 1,
     "metadata": {},
     "output_type": "execute_result"
    }
   ],
   "source": [
    "import pandas as pd\n",
    "import numpy as np\n",
    "import matplotlib.pyplot as plt\n",
    "\n",
    "from langchain.text_splitter import RecursiveCharacterTextSplitter\n",
    "from langchain_openai import ChatOpenAI, OpenAIEmbeddings\n",
    "from langchain_groq import ChatGroq\n",
    "\n",
    "import os\n",
    "from dotenv import load_dotenv\n",
    "from operator import itemgetter\n",
    "\n",
    "from langchain_core.prompts import ChatPromptTemplate\n",
    "from langchain_core.output_parsers import StrOutputParser\n",
    "\n",
    "from langchain_core.runnables import RunnableLambda\n",
    "from langchain_community.document_loaders import PyPDFLoader\n",
    "\n",
    "load_dotenv()"
   ]
  },
  {
   "cell_type": "code",
   "execution_count": 2,
   "metadata": {},
   "outputs": [],
   "source": [
    "system = \"\"\"\n",
    "\n",
    "Você é um assistente muito útil que irá me ajudar a estudar para o ENEM.\n",
    "\n",
    "\"\"\"\n",
    "\n",
    "\"\"\"\n",
    "\n",
    "Modelos disponíveis:\n",
    "\n",
    "- mixtral-8x7b-32768\n",
    "- llama-guard-3-8b -> Somente para guardrails\n",
    "- llama-3.2-90b-text-preview\n",
    "- llama3-70b-8192\n",
    "- llama-3.1-70b-versatile\n",
    "\n",
    "\"\"\"\n",
    "\n",
    "\n",
    "llm = ChatGroq(model=\"llama-3.2-90b-text-preview\", temperature=0)\n",
    "\n",
    "prompt = ChatPromptTemplate.from_messages([\n",
    "    (\"system\", system),\n",
    "    (\"human\", \"input: {input}\")\n",
    "])\n",
    "\n",
    "chain = prompt | llm | StrOutputParser()"
   ]
  },
  {
   "cell_type": "code",
   "execution_count": 3,
   "metadata": {},
   "outputs": [],
   "source": [
    "response = chain.invoke({\"input\": \"O que eu devo estudar hoje?\"})"
   ]
  },
  {
   "cell_type": "code",
   "execution_count": 15,
   "metadata": {},
   "outputs": [
    {
     "name": "stdout",
     "output_type": "stream",
     "text": [
      "Olá! Estou aqui para ajudá-lo a estudar para o ENEM.\n",
      "\n",
      "Para sugerir o que você deve estudar hoje, preciso saber um pouco mais sobre seus objetivos e necessidades. Você pode me dizer:\n",
      "\n",
      "1. Qual é o seu nível de conhecimento atual em cada uma das áreas do ENEM (Língua Portuguesa, Matemática, Ciências da Natureza e Ciências Humanas)?\n",
      "2. Você tem alguma área específica em que gostaria de se concentrar hoje?\n",
      "3. Você tem um tempo limite para estudar hoje? (por exemplo, 1 hora, 2 horas, etc.)\n",
      "4. Você tem algum material de estudo específico que gostaria de usar hoje (por exemplo, livro, apostila, etc.)?\n",
      "\n",
      "Com essas informações, posso sugerir um plano de estudo personalizado para você!\n"
     ]
    }
   ],
   "source": [
    "print(response)"
   ]
  },
  {
   "cell_type": "code",
   "execution_count": 16,
   "metadata": {},
   "outputs": [
    {
     "name": "stdout",
     "output_type": "stream",
     "text": [
      "Olá! Estou aqui para ajudá-lo a estudar para o ENEM.\n",
      "\n",
      "Para decidir o que estudar hoje, precisamos considerar algumas coisas:\n",
      "\n",
      "1. Quais são as suas áreas de interesse e fortes no ENEM (Linguagens, Ciências Humanas, Ciências da Natureza, Matemática)?\n",
      "2. Quais são as suas dificuldades e áreas que precisam de mais atenção?\n",
      "3. Você tem algum cronograma de estudos estabelecido?\n",
      "\n",
      "Se você não tiver um cronograma de estudos, podemos criar um plano de estudos personalizado para você.\n",
      "\n",
      "Aqui estão algumas sugestões de estudo para hoje:\n",
      "\n",
      "* Se você está tendo dificuldade com a redação, podemos começar com um exercício de redação sobre um tema específico.\n",
      "* Se você está precisando revisar conceitos de Matemática, podemos começar com um resumo dos principais tópicos de Álgebra ou Geometria.\n",
      "* Se você está interessado em Ciências Humanas, podemos começar com um resumo dos principais eventos históricos do Brasil ou do mundo.\n",
      "\n",
      "Qual é a sua escolha? O que você gostaria de estudar hoje?"
     ]
    }
   ],
   "source": [
    "async for token in chain.astream({\"input\": \"O que eu devo estudar hoje?\"}):\n",
    "    print(token, end=\"\", flush=True)"
   ]
  }
 ],
 "metadata": {
  "kernelspec": {
   "display_name": "env",
   "language": "python",
   "name": "python3"
  },
  "language_info": {
   "codemirror_mode": {
    "name": "ipython",
    "version": 3
   },
   "file_extension": ".py",
   "mimetype": "text/x-python",
   "name": "python",
   "nbconvert_exporter": "python",
   "pygments_lexer": "ipython3",
   "version": "3.10.11"
  }
 },
 "nbformat": 4,
 "nbformat_minor": 2
}
