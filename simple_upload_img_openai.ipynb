{
 "cells": [
  {
   "cell_type": "code",
   "execution_count": 8,
   "metadata": {},
   "outputs": [],
   "source": [
    "import base64\n",
    "import httpx\n",
    "from langchain_core.messages import HumanMessage\n",
    "\n",
    "from langchain_openai import ChatOpenAI, OpenAIEmbeddings\n",
    "\n",
    "image_url = \"https://upload.wikimedia.org/wikipedia/commons/thumb/d/dd/Gfp-wisconsin-madison-the-nature-boardwalk.jpg/2560px-Gfp-wisconsin-madison-the-nature-boardwalk.jpg\"\n",
    "image_data = base64.b64encode(httpx.get(image_url).content).decode(\"utf-8\")\n",
    "message = HumanMessage(\n",
    "    content=[\n",
    "        {\"type\": \"text\", \"text\": \"Liste em texto absolutamente todas as comidas na imagem.\"},\n",
    "        {\n",
    "            \"type\": \"image_url\",\n",
    "            \"image_url\": {\"url\": f\"data:image/jpeg;base64,{image_data}\"},\n",
    "        },\n",
    "    ]\n",
    ")"
   ]
  },
  {
   "cell_type": "code",
   "execution_count": 9,
   "metadata": {},
   "outputs": [],
   "source": [
    "model_name = \"gpt-4o-2024-08-06\"\n",
    "\n",
    "llm = ChatOpenAI(model=model_name, temperature=0.01)\n",
    "\n",
    "response = llm.invoke([message])"
   ]
  },
  {
   "cell_type": "code",
   "execution_count": 10,
   "metadata": {},
   "outputs": [
    {
     "name": "stdout",
     "output_type": "stream",
     "text": [
      "('A imagem não contém comidas. É uma paisagem com um caminho de madeira '\n",
      " 'cercado por grama e vegetação sob um céu azul.')\n"
     ]
    }
   ],
   "source": [
    "from pprint import pprint\n",
    "\n",
    "pprint(response.content)"
   ]
  },
  {
   "cell_type": "code",
   "execution_count": null,
   "metadata": {},
   "outputs": [
    {
     "ename": "NameError",
     "evalue": "name 'GetSchema' is not defined",
     "output_type": "error",
     "traceback": [
      "\u001b[1;31m---------------------------------------------------------------------------\u001b[0m",
      "\u001b[1;31mNameError\u001b[0m                                 Traceback (most recent call last)",
      "Cell \u001b[1;32mIn[11], line 42\u001b[0m\n\u001b[0;32m     35\u001b[0m \u001b[38;5;250m    \u001b[39m\u001b[38;5;124;03m\"\"\"Gere uma lista de alimentos presentes no texto.\"\"\"\u001b[39;00m\n\u001b[0;32m     37\u001b[0m     resultado: List[\u001b[38;5;28mstr\u001b[39m] \u001b[38;5;241m=\u001b[39m Field(description\u001b[38;5;241m=\u001b[39m\u001b[38;5;124m\"\u001b[39m\u001b[38;5;124mLista de alimentos presentes na descrição da cena.\u001b[39m\u001b[38;5;124m\"\u001b[39m, \n\u001b[0;32m     38\u001b[0m                                  examples\u001b[38;5;241m=\u001b[39m[[\u001b[38;5;124m\"\u001b[39m\u001b[38;5;124mBanana\u001b[39m\u001b[38;5;124m\"\u001b[39m, \u001b[38;5;124m\"\u001b[39m\u001b[38;5;124mMaçã\u001b[39m\u001b[38;5;124m\"\u001b[39m, \u001b[38;5;124m\"\u001b[39m\u001b[38;5;124mPão\u001b[39m\u001b[38;5;124m\"\u001b[39m, \u001b[38;5;124m\"\u001b[39m\u001b[38;5;124mQueijo\u001b[39m\u001b[38;5;124m\"\u001b[39m],\n\u001b[0;32m     39\u001b[0m                                            [\u001b[38;5;124m\"\u001b[39m\u001b[38;5;124mArroz\u001b[39m\u001b[38;5;124m\"\u001b[39m, \u001b[38;5;124m\"\u001b[39m\u001b[38;5;124mFeijão\u001b[39m\u001b[38;5;124m\"\u001b[39m, \u001b[38;5;124m\"\u001b[39m\u001b[38;5;124mCarne\u001b[39m\u001b[38;5;124m\"\u001b[39m, \u001b[38;5;124m\"\u001b[39m\u001b[38;5;124mSalada\u001b[39m\u001b[38;5;124m\"\u001b[39m]])\n\u001b[1;32m---> 42\u001b[0m llm_openai_with_tools_extraction \u001b[38;5;241m=\u001b[39m llm_openai\u001b[38;5;241m.\u001b[39mbind_tools([\u001b[43mGetSchema\u001b[49m]) \u001b[38;5;66;03m#, strict=True)\u001b[39;00m\n\u001b[0;32m     43\u001b[0m llm_groq_with_tools_extraction \u001b[38;5;241m=\u001b[39m llm_groq\u001b[38;5;241m.\u001b[39mwith_structured_output(GetSchema)\n\u001b[0;32m     45\u001b[0m chain_openai_structured_extraction \u001b[38;5;241m=\u001b[39m prompt \u001b[38;5;241m|\u001b[39m llm_openai_with_tools_extraction\n",
      "\u001b[1;31mNameError\u001b[0m: name 'GetSchema' is not defined"
     ]
    }
   ],
   "source": [
    "from pydantic import BaseModel, Field\n",
    "from typing import List\n",
    "from langchain_groq import ChatGroq\n",
    "\n",
    "from langchain_openai import ChatOpenAI\n",
    "from langchain_core.prompts import ChatPromptTemplate\n",
    "\n",
    "model_name_groq = \"llama-3.2-90b-text-preview\"\n",
    "model_name_openai = \"gpt-4o-2024-08-06\"\n",
    "\n",
    "llm_openai = ChatOpenAI(\n",
    "    model=model_name_openai, # 100% json output\n",
    "    temperature=0,\n",
    ")\n",
    "\n",
    "llm_groq = ChatGroq(\n",
    "    model=model_name_groq, \n",
    "    temperature=0,\n",
    ")\n",
    "\n",
    "system_prompt = \"\"\"\n",
    "\n",
    "Você é um assistente de nutrição que auxilia na listagem de alimentos dado um texto que descreve uma imagem. Registre em uma lista absolutamente todas as comidas presentes no texto.\n",
    "\n",
    "\"\"\"\n",
    "\n",
    "prompt = ChatPromptTemplate.from_messages(\n",
    "        [\n",
    "            (\"system\", system_prompt), \n",
    "            (\"human\", \"Descrição da imagem: \\n\\n {query}\")\n",
    "        ]\n",
    ")\n",
    "\n",
    "class FoodList(BaseModel):\n",
    "    \"\"\"Gere uma lista de alimentos presentes no texto.\"\"\"\n",
    "    \n",
    "    resultado: List[str] = Field(description=\"Lista de alimentos presentes na descrição da cena.\", \n",
    "                                 examples=[[\"Banana\", \"Maçã\", \"Pão\", \"Queijo\"],\n",
    "                                           [\"Arroz\", \"Feijão\", \"Carne\", \"Salada\"]])\n",
    "    \n",
    "\n",
    "llm_openai_with_tools_extraction = llm_openai.bind_tools([FoodList]) #, strict=True)\n",
    "llm_groq_with_tools_extraction = llm_groq.with_structured_output(FoodList)\n",
    "\n",
    "chain_openai_structured_extraction = prompt | llm_openai_with_tools_extraction\n",
    "chain_groq_structured_extraction = prompt | llm_groq_with_tools_extraction"
   ]
  },
  {
   "cell_type": "code",
   "execution_count": null,
   "metadata": {},
   "outputs": [],
   "source": []
  }
 ],
 "metadata": {
  "kernelspec": {
   "display_name": "env",
   "language": "python",
   "name": "python3"
  },
  "language_info": {
   "codemirror_mode": {
    "name": "ipython",
    "version": 3
   },
   "file_extension": ".py",
   "mimetype": "text/x-python",
   "name": "python",
   "nbconvert_exporter": "python",
   "pygments_lexer": "ipython3",
   "version": "3.10.11"
  }
 },
 "nbformat": 4,
 "nbformat_minor": 2
}
