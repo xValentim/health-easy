{
 "cells": [
  {
   "cell_type": "code",
   "execution_count": 1,
   "metadata": {},
   "outputs": [],
   "source": [
    "import base64\n",
    "import httpx\n",
    "from langchain_core.messages import HumanMessage\n",
    "\n",
    "from langchain_openai import ChatOpenAI, OpenAIEmbeddings\n",
    "\n",
    "image_url = \"https://www.qgjeitinhocaseiro.com/wp-content/uploads/2019/12/comida-f%C3%A1cil.jpg\"\n",
    "image_data = base64.b64encode(httpx.get(image_url).content).decode(\"utf-8\")\n",
    "message = HumanMessage(\n",
    "    content=[\n",
    "        {\"type\": \"text\", \"text\": \"Liste em texto absolutamente todas as comidas na imagem.\"},\n",
    "        {\n",
    "            \"type\": \"image_url\",\n",
    "            \"image_url\": {\"url\": f\"data:image/jpeg;base64,{image_data}\"},\n",
    "        },\n",
    "    ]\n",
    ")"
   ]
  },
  {
   "cell_type": "code",
   "execution_count": 2,
   "metadata": {},
   "outputs": [],
   "source": [
    "model_name = \"gpt-4o-2024-08-06\"\n",
    "\n",
    "llm = ChatOpenAI(model=model_name, temperature=0.01)\n",
    "\n",
    "response = llm.invoke([message])"
   ]
  },
  {
   "cell_type": "code",
   "execution_count": 3,
   "metadata": {},
   "outputs": [
    {
     "name": "stdout",
     "output_type": "stream",
     "text": [
      "('Na imagem, há as seguintes comidas:\\n'\n",
      " '\\n'\n",
      " '- Arroz\\n'\n",
      " '- Alface\\n'\n",
      " '- Tomate fatiado\\n'\n",
      " '- Purê de batata\\n'\n",
      " '- Filé de frango com molho verde\\n'\n",
      " '- Tomates cereja (ao lado do prato)')\n"
     ]
    }
   ],
   "source": [
    "from pprint import pprint\n",
    "\n",
    "pprint(response.content)"
   ]
  },
  {
   "cell_type": "code",
   "execution_count": 11,
   "metadata": {},
   "outputs": [],
   "source": [
    "from pydantic import BaseModel, Field\n",
    "from typing import List\n",
    "from langchain_groq import ChatGroq\n",
    "\n",
    "from langchain_openai import ChatOpenAI\n",
    "from langchain_core.prompts import ChatPromptTemplate\n",
    "\n",
    "model_name_groq = \"llama-3.1-70b-versatile\"\n",
    "model_name_openai = \"gpt-4o-2024-08-06\"\n",
    "\n",
    "llm_openai = ChatOpenAI(\n",
    "    model=model_name_openai, # 100% json output\n",
    "    temperature=0,\n",
    ")\n",
    "\n",
    "llm_groq = ChatGroq(\n",
    "    model=model_name_groq, \n",
    "    temperature=0,\n",
    ")\n",
    "\n",
    "system_prompt = \"\"\"\n",
    "\n",
    "Você é um assistente de nutrição que auxilia na listagem de alimentos dado um texto que descreve uma imagem. Registre em uma lista absolutamente todas as comidas presentes no texto.\n",
    "\n",
    "\"\"\"\n",
    "\n",
    "prompt = ChatPromptTemplate.from_messages(\n",
    "        [\n",
    "            (\"system\", system_prompt), \n",
    "            (\"human\", \"Descrição da imagem: \\n\\n {description}\")\n",
    "        ]\n",
    ")\n",
    "\n",
    "class FoodList(BaseModel):\n",
    "    \"\"\"Gere uma lista de alimentos presentes no texto.\"\"\"\n",
    "    \n",
    "    resultado: List[str] = Field(description=\"Lista de alimentos presentes na descrição da cena.\", \n",
    "                                 examples=[[\"Banana\", \"Maçã\", \"Pão\", \"Queijo\"],\n",
    "                                           [\"Arroz\", \"Feijão\", \"Carne\", \"Salada\"]])\n",
    "    \n",
    "\n",
    "llm_openai_with_tools_extraction = llm_openai.bind_tools([FoodList]) #, strict=True)\n",
    "llm_groq_with_tools_extraction = llm_groq.with_structured_output(FoodList)\n",
    "\n",
    "chain_openai_structured_extraction = prompt | llm_openai_with_tools_extraction\n",
    "chain_groq_structured_extraction = prompt | llm_groq_with_tools_extraction"
   ]
  },
  {
   "cell_type": "code",
   "execution_count": 5,
   "metadata": {},
   "outputs": [],
   "source": [
    "response_struct = chain_openai_structured_extraction.invoke({\"description\": response.content})"
   ]
  },
  {
   "cell_type": "code",
   "execution_count": 9,
   "metadata": {},
   "outputs": [
    {
     "data": {
      "text/plain": [
       "['Arroz',\n",
       " 'Alface',\n",
       " 'Tomate fatiado',\n",
       " 'Purê de batata',\n",
       " 'Filé de frango com molho verde',\n",
       " 'Tomates cereja']"
      ]
     },
     "execution_count": 9,
     "metadata": {},
     "output_type": "execute_result"
    }
   ],
   "source": [
    "response_struct.tool_calls[0]['args']['resultado']"
   ]
  },
  {
   "cell_type": "code",
   "execution_count": 12,
   "metadata": {},
   "outputs": [],
   "source": [
    "response_struct_groq = chain_groq_structured_extraction.invoke({\"description\": response.content})"
   ]
  },
  {
   "cell_type": "code",
   "execution_count": 15,
   "metadata": {},
   "outputs": [
    {
     "data": {
      "text/plain": [
       "['Arroz',\n",
       " 'Alface',\n",
       " 'Tomate',\n",
       " 'Purê de batata',\n",
       " 'Filé de frango',\n",
       " 'Tomates cereja']"
      ]
     },
     "execution_count": 15,
     "metadata": {},
     "output_type": "execute_result"
    }
   ],
   "source": [
    "response_struct_groq.resultado"
   ]
  },
  {
   "cell_type": "code",
   "execution_count": null,
   "metadata": {},
   "outputs": [],
   "source": [
    "import base64\n",
    "import httpx\n",
    "from langchain_core.messages import HumanMessage\n",
    "\n",
    "from langchain_openai import ChatOpenAI, OpenAIEmbeddings\n",
    "\n",
    "from pydantic import BaseModel, Field\n",
    "from typing import List\n",
    "from langchain_groq import ChatGroq\n",
    "\n",
    "from langchain_openai import ChatOpenAI\n",
    "from langchain_core.prompts import ChatPromptTemplate\n",
    "\n",
    "\n",
    "model_name_groq = \"llama-3.1-70b-versatile\"\n",
    "model_name_openai = \"gpt-4o-2024-08-06\"\n",
    "\n",
    "llm_openai = ChatOpenAI(\n",
    "    model=model_name_openai, # 100% json output\n",
    "    temperature=0,\n",
    ")\n",
    "\n",
    "llm_groq = ChatGroq(\n",
    "    model=model_name_groq, \n",
    "    temperature=0,\n",
    ")\n",
    "\n",
    "system_prompt = \"\"\"\n",
    "\n",
    "Você é um assistente de nutrição que auxilia na listagem de alimentos dado um texto que descreve uma imagem. Registre em uma lista absolutamente todas as comidas presentes no texto.\n",
    "\n",
    "\"\"\"\n",
    "\n",
    "prompt = ChatPromptTemplate.from_messages(\n",
    "        [\n",
    "            (\"system\", system_prompt), \n",
    "            (\"human\", \"Descrição da imagem: \\n\\n {description}\")\n",
    "        ]\n",
    ")\n",
    "\n",
    "class FoodList(BaseModel):\n",
    "    \"\"\"Gere uma lista de alimentos presentes no texto.\"\"\"\n",
    "    \n",
    "    resultado: List[str] = Field(description=\"Lista de alimentos presentes na descrição da cena.\", \n",
    "                                 examples=[[\"Banana\", \"Maçã\", \"Pão\", \"Queijo\"],\n",
    "                                           [\"Arroz\", \"Feijão\", \"Carne\", \"Salada\"]])\n",
    "    \n",
    "\n",
    "llm_openai_with_tools_extraction = llm_openai.bind_tools([FoodList]) #, strict=True)\n",
    "llm_groq_with_tools_extraction = llm_groq.with_structured_output(FoodList)\n",
    "\n",
    "chain_openai_structured_extraction = prompt | llm_openai_with_tools_extraction\n",
    "chain_groq_structured_extraction = prompt | llm_groq_with_tools_extraction\n",
    "\n",
    "\n",
    "def get_structured_foods(path: str, provider=\"openai\"):\n",
    "    image_url = path # \"https://www.qgjeitinhocaseiro.com/wp-content/uploads/2019/12/comida-f%C3%A1cil.jpg\"\n",
    "    image_data = base64.b64encode(httpx.get(image_url).content).decode(\"utf-8\")\n",
    "    message = HumanMessage(\n",
    "        content=[\n",
    "            {\"type\": \"text\", \"text\": \"Liste em texto absolutamente todas as comidas na imagem.\"},\n",
    "            {\n",
    "                \"type\": \"image_url\",\n",
    "                \"image_url\": {\"url\": f\"data:image/jpeg;base64,{image_data}\"},\n",
    "            },\n",
    "        ]\n",
    "    )\n",
    "    \n",
    "    response = llm.invoke([message])\n",
    "    response_content = response.content\n",
    "    \n",
    "    if provider == \"openai\":\n",
    "        response_struct = chain_openai_structured_extraction.invoke({\"description\": response_content})\n",
    "        try:\n",
    "            output_struct = response_struct.tool_calls[0]['args']['resultado']\n",
    "        except:\n",
    "            output_struct = []\n",
    "    elif provider == \"groq\":\n",
    "        response_struct = chain_groq_structured_extraction.invoke({\"description\": response_content})\n",
    "        try:\n",
    "            output_struct = response_struct.resultado\n",
    "        except:\n",
    "            output_struct = []\n",
    "\n",
    "    return output_struct"
   ]
  },
  {
   "cell_type": "code",
   "execution_count": 17,
   "metadata": {},
   "outputs": [],
   "source": [
    "image_url_1 = \"https://institucional.ifood.com.br/wp-content/uploads/2024/07/comidas-tipicas-arroz-com-pequi.jpg\" # arroz com pequi\n",
    "image_url_2 = \"https://institucional.ifood.com.br/wp-content/uploads/2024/07/comidas-tipicas-moqueca.jpg\" # moqueca arroz cebola ....\n",
    "image_url_3 = \"https://institucional.ifood.com.br/wp-content/uploads/2024/07/comidas-tipicas-brigadeiro.jpg\" # brigadeiro\n",
    "image_url_4 = \"https://institucional.ifood.com.br/wp-content/uploads/2024/07/pratos-tipicos-frango-com-quiabo.jpg\" # frango com quiabo\n",
    "\n",
    "images_urls = [image_url_1, image_url_2, image_url_3, image_url_4]\n"
   ]
  },
  {
   "cell_type": "code",
   "execution_count": 19,
   "metadata": {},
   "outputs": [
    {
     "name": "stderr",
     "output_type": "stream",
     "text": [
      " 25%|██▌       | 1/4 [00:04<00:13,  4.55s/it]"
     ]
    },
    {
     "name": "stdout",
     "output_type": "stream",
     "text": [
      "['Arroz', 'Pequi', 'Salsa']\n"
     ]
    },
    {
     "name": "stderr",
     "output_type": "stream",
     "text": [
      " 50%|█████     | 2/4 [00:09<00:09,  4.53s/it]"
     ]
    },
    {
     "name": "stdout",
     "output_type": "stream",
     "text": [
      "['Moqueca de camarão', 'Arroz branco', 'Molho ou pirão', 'Pimentões vermelho', 'Pimentões amarelo', 'Cebolas', 'Alho', 'Coentro', 'Pimenta rosa']\n"
     ]
    },
    {
     "name": "stderr",
     "output_type": "stream",
     "text": [
      " 75%|███████▌  | 3/4 [00:12<00:03,  3.87s/it]"
     ]
    },
    {
     "name": "stdout",
     "output_type": "stream",
     "text": [
      "['Brigadeiro', 'Granulado de chocolate']\n"
     ]
    },
    {
     "name": "stderr",
     "output_type": "stream",
     "text": [
      "100%|██████████| 4/4 [00:16<00:00,  4.03s/it]"
     ]
    },
    {
     "name": "stdout",
     "output_type": "stream",
     "text": [
      "['Frango', 'Quiabo', 'Polenta', 'Molho de tomate', 'Queijo ralado']\n"
     ]
    },
    {
     "name": "stderr",
     "output_type": "stream",
     "text": [
      "\n"
     ]
    }
   ],
   "source": [
    "from tqdm import tqdm\n",
    "\n",
    "all_foods = []\n",
    "for url in tqdm(images_urls):\n",
    "    response = get_structured_foods(url, provider=\"openai\")\n",
    "    all_foods.append(response)\n",
    "    print(response)"
   ]
  },
  {
   "cell_type": "code",
   "execution_count": null,
   "metadata": {},
   "outputs": [],
   "source": []
  }
 ],
 "metadata": {
  "kernelspec": {
   "display_name": "env",
   "language": "python",
   "name": "python3"
  },
  "language_info": {
   "codemirror_mode": {
    "name": "ipython",
    "version": 3
   },
   "file_extension": ".py",
   "mimetype": "text/x-python",
   "name": "python",
   "nbconvert_exporter": "python",
   "pygments_lexer": "ipython3",
   "version": "3.10.11"
  }
 },
 "nbformat": 4,
 "nbformat_minor": 2
}
