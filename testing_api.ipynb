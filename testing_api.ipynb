{
 "cells": [
  {
   "cell_type": "code",
   "execution_count": 4,
   "metadata": {},
   "outputs": [],
   "source": [
    "import requests"
   ]
  },
  {
   "cell_type": "code",
   "execution_count": 15,
   "metadata": {},
   "outputs": [
    {
     "name": "stdout",
     "output_type": "stream",
     "text": [
      "200\n",
      "['Arroz', 'Pequi', 'Salsa']\n",
      "200\n",
      "['Moqueca de camarão', 'Arroz branco', 'Pimentões (vermelho e amarelo)', 'Alho', 'Coentro', 'Cebola', 'Pimenta (em grãos)', 'Molho ou creme']\n",
      "200\n",
      "['Brigadeiro', 'Granulado de chocolate']\n",
      "200\n",
      "['Frango', 'Quiabo', 'Polenta', 'Tomate', 'Queijo ralado']\n"
     ]
    }
   ],
   "source": [
    "image_url_1 = \"https://institucional.ifood.com.br/wp-content/uploads/2024/07/comidas-tipicas-arroz-com-pequi.jpg\" # arroz com pequi\n",
    "image_url_2 = \"https://institucional.ifood.com.br/wp-content/uploads/2024/07/comidas-tipicas-moqueca.jpg\" # moqueca arroz cebola ....\n",
    "image_url_3 = \"https://institucional.ifood.com.br/wp-content/uploads/2024/07/comidas-tipicas-brigadeiro.jpg\" # brigadeiro\n",
    "image_url_4 = \"https://institucional.ifood.com.br/wp-content/uploads/2024/07/pratos-tipicos-frango-com-quiabo.jpg\" # frango com quiabo\n",
    "\n",
    "images_urls = [image_url_1, image_url_2, image_url_3, image_url_4]\n",
    "\n",
    "\n",
    "endpoint = \"http://localhost:8000/list-foods\"\n",
    "\n",
    "params = {\n",
    "    \"path\": image_url_1,\n",
    "    \"provider\": \"openai\" \n",
    "}\n",
    "\n",
    "list_params = [{\n",
    "    \"path\": url,\n",
    "    \"provider\": \"openai\" \n",
    "} for url in images_urls]\n",
    "\n",
    "for params in list_params:\n",
    "    response = requests.get(endpoint, params=params)\n",
    "\n",
    "    print(response.status_code)\n",
    "    print(response.json())  "
   ]
  },
  {
   "cell_type": "code",
   "execution_count": null,
   "metadata": {},
   "outputs": [],
   "source": []
  }
 ],
 "metadata": {
  "kernelspec": {
   "display_name": "env",
   "language": "python",
   "name": "python3"
  },
  "language_info": {
   "codemirror_mode": {
    "name": "ipython",
    "version": 3
   },
   "file_extension": ".py",
   "mimetype": "text/x-python",
   "name": "python",
   "nbconvert_exporter": "python",
   "pygments_lexer": "ipython3",
   "version": "3.10.11"
  }
 },
 "nbformat": 4,
 "nbformat_minor": 2
}
