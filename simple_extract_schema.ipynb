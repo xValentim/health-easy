{
 "cells": [
  {
   "cell_type": "code",
   "execution_count": 2,
   "metadata": {},
   "outputs": [],
   "source": [
    "# bring in our LLAMA_CLOUD_API_KEY\n",
    "from dotenv import load_dotenv\n",
    "load_dotenv()\n",
    "\n",
    "import nest_asyncio\n",
    "\n",
    "nest_asyncio.apply()"
   ]
  },
  {
   "cell_type": "code",
   "execution_count": 12,
   "metadata": {},
   "outputs": [
    {
     "name": "stdout",
     "output_type": "stream",
     "text": [
      "Started parsing the file under job_id df122324-8193-4a8a-b140-4c76d73cb4b0\n"
     ]
    }
   ],
   "source": [
    "from llama_parse import LlamaParse \n",
    "import json\n",
    "\n",
    "llamaparse = LlamaParse(premium_mode=True)\n",
    "parsed_result = llamaparse.get_json_result(\"./data/redacao_1.jpg\")"
   ]
  },
  {
   "cell_type": "code",
   "execution_count": 13,
   "metadata": {},
   "outputs": [
    {
     "data": {
      "text/markdown": [
       "# FOLHA DE REDAÇÃO\n",
       "EXAME NACIONAL DO ENSINO MÉDIO - ENEM 2023\n",
       "\n",
       "**Número de Inscrição**: 231005093712  \n",
       "**Sequencial**: 028  \n",
       "**Sala**: 617  \n",
       "**Data de Nascimento**: 29/10/1988\n",
       "\n",
       "### INSTRUÇÕES\n",
       "1. Transcreva a sua redação com caneta esferográfica de tinta preta, fabricada em material transparente.\n",
       "2. Escreva a sua redação com letra legível. No caso de erro, risque, com um traço simples, a palavra, a frase, o trecho ou o sinal gráfico e escreva, em seguida, o respectivo substitutivo.\n",
       "3. Não será avaliado texto escrito em local indevido. Respeite rigorosamente as margens.\n",
       "\n",
       "Historicamente, o mundo do trabalho foi dominado pelos homens, restando para as mulheres, prin-\n",
       "cipalmente, o trabalho doméstico e de cuidado com a família. Com efeito, no Brasil não foi diferente, e,\n",
       "ainda hoje, existem desafios que precisam ser enfrentados para reduzir a invisibilidade do trabalho de\n",
       "cuidado realizado pela mulher no país, uma vez que esse grupo da sociedade permanece em situação de\n",
       "exclusão e resistência no mercado trabalhista. Diante desse cenário, é fundamental compreender as\n",
       "causas desse revés, dentre as quais a desigualdade social e o patriarcalismo enraizado na sociedade\n",
       "são fatores agravantes dessa problemática.\n",
       "\n",
       "Em uma primeira análise, destaca-se a desigualdade social como um dos fatores a ser enfrentado pa-\n",
       "ra amenizar a invisibilidade do trabalho de cuidado realizado pela mulher no Brasil. Nesse sentido,\n",
       "a escritora Carolina Maria de Jesus, em sua obra literária \"Quarto de Despejo\", escrita em meados do sé-\n",
       "culo XX, traz uma denúncia social, com uma visão feminina, de uma moradora de favela, na qual re-\n",
       "trata a invisibilidade das pessoas que vivem em regiões desprivilegiadas pelo poder público e que precisam\n",
       "se submeter a situações degradantes para conseguir sobreviver e não morrer de fome. Sob essa ótica, pa-\n",
       "rece-se que a desigualdade social gerada pela ausência do amparo estatal para as camadas mais pobres da\n",
       "população ocasiona na aceitação de trabalhos mal remunerados e informais, principalmente pelas mulhe-\n",
       "res. Assim, é fundamental que haja políticas públicas que reconheçam a importância do trabalho de cuidado no\n",
       "país e tragam garantias para essa atividade que será cada vez mais demandada com o envelhecimento da população.\n",
       "\n",
       "Outrossim, salienta-se que o patriarcalismo enraizado na sociedade brasileira é outro fator que contribui pa-\n",
       "ra a falta de visibilidade do trabalho de cuidado desempenhado pela mulher no país, sendo a desconstrução dessa\n",
       "cultura de inferioridade feminina mais um desafio a ser superado para solucionar esse gravame social. Segundo\n",
       "preceitua a Constituição Federal, em seu artigo 5º, é objetivo do Estado a construção de uma sociedade justa e igua-\n",
       "litária, sem distinção de gênero, raça, etc. No entanto, as mulheres ainda são prejudicadas quanto aos direitos\n",
       "trabalhistas, recebendo salários menores e não sendo valorizadas especialmente nos trabalhos realizados em am-\n",
       "bientes domésticos. Dessa forma, é preciso que haja uma mudança cultural no pensamento patriarcal a fim de ampliar\n",
       "a importância desse trabalho de cuidado feminino com o reconhecimento das garantias constitucionais.\n",
       "\n",
       "É urgente, portanto, que medidas precisam ser tomadas para solucionar esse problema. Para tanto, o Congresso\n",
       "Nacional, por meio da elaboração de leis específicas, deve criar normas que assegurem a visibilidade do trabalho de\n",
       "cuidado existente no país, executado majoritariamente por mulheres, com a regulamentação de direitos trabalhis-\n",
       "tas para essa categoria, a fim de que essas trabalhadoras possam ter uma vida digna, uma jornada legal de traba-\n",
       "lho e uma remuneração justa que lhes permita ter acesso à moradia, alimentação, saúde e lazer."
      ],
      "text/plain": [
       "<IPython.core.display.Markdown object>"
      ]
     },
     "metadata": {},
     "output_type": "display_data"
    }
   ],
   "source": [
    "from IPython.display import display, Markdown\n",
    "\n",
    "\n",
    "display(Markdown(parsed_result[0]['pages'][0]['md']))"
   ]
  },
  {
   "cell_type": "code",
   "execution_count": 16,
   "metadata": {},
   "outputs": [],
   "source": [
    "all_content_md = parsed_result[0]['pages'][0]['md']"
   ]
  },
  {
   "cell_type": "code",
   "execution_count": 22,
   "metadata": {},
   "outputs": [],
   "source": [
    "from pydantic import BaseModel, Field\n",
    "from typing import List\n",
    "\n",
    "from langchain_openai import ChatOpenAI\n",
    "from langchain_core.prompts import ChatPromptTemplate\n",
    "\n",
    "llm = ChatOpenAI(\n",
    "    model=\"gpt-4o-2024-08-06\", # 100% json output\n",
    "    temperature=0,\n",
    ")\n",
    "\n",
    "system_prompt = \"\"\"\n",
    "Você vai receber uma redação. Por favor, extraia o texto da redação, o nome do aluno, a data de nascimento e a sala\n",
    "\"\"\"\n",
    "\n",
    "prompt = ChatPromptTemplate.from_messages(\n",
    "        [\n",
    "            (\"system\", system_prompt), \n",
    "            (\"human\", \"All document: \\n\\n {document}\")\n",
    "        ]\n",
    ")\n",
    "\n",
    "model_name = \"gpt-4o-2024-08-06\"\n",
    "\n",
    "class GetSchema(BaseModel):\n",
    "    \"\"\"Extrai metadado de uma redação\"\"\"\n",
    "    \n",
    "    redacao_texto: str = Field(description=\"Texto da redação\")\n",
    "    nome: str = Field(description=\"Nome do aluno ou participante\")\n",
    "    data_nascimento: str = Field(description=\"Data de nascimento do aluno\")\n",
    "    sala: str = Field(description=\"Sala do aluno\")\n",
    "\n",
    "llm_with_tools_extraction = llm.bind_tools([GetSchema]) #, strict=True)\n",
    "chain_structured_extraction = prompt | llm_with_tools_extraction"
   ]
  },
  {
   "cell_type": "code",
   "execution_count": 23,
   "metadata": {},
   "outputs": [],
   "source": [
    "response = chain_structured_extraction.invoke({\"document\": all_content_md})"
   ]
  },
  {
   "cell_type": "code",
   "execution_count": 25,
   "metadata": {},
   "outputs": [
    {
     "data": {
      "text/plain": [
       "{'redacao_texto': 'Historicamente, o mundo do trabalho foi dominado pelos homens, restando para as mulheres, principalmente, o trabalho doméstico e de cuidado com a família. Com efeito, no Brasil não foi diferente, e, ainda hoje, existem desafios que precisam ser enfrentados para reduzir a invisibilidade do trabalho de cuidado realizado pela mulher no país, uma vez que esse grupo da sociedade permanece em situação de exclusão e resistência no mercado trabalhista. Diante desse cenário, é fundamental compreender as causas desse revés, dentre as quais a desigualdade social e o patriarcalismo enraizado na sociedade são fatores agravantes dessa problemática.\\n\\nEm uma primeira análise, destaca-se a desigualdade social como um dos fatores a ser enfrentado para amenizar a invisibilidade do trabalho de cuidado realizado pela mulher no Brasil. Nesse sentido, a escritora Carolina Maria de Jesus, em sua obra literária \"Quarto de Despejo\", escrita em meados do século XX, traz uma denúncia social, com uma visão feminina, de uma moradora de favela, na qual retrata a invisibilidade das pessoas que vivem em regiões desprivilegiadas pelo poder público e que precisam se submeter a situações degradantes para conseguir sobreviver e não morrer de fome. Sob essa ótica, parece-se que a desigualdade social gerada pela ausência do amparo estatal para as camadas mais pobres da população ocasiona na aceitação de trabalhos mal remunerados e informais, principalmente pelas mulheres. Assim, é fundamental que haja políticas públicas que reconheçam a importância do trabalho de cuidado no país e tragam garantias para essa atividade que será cada vez mais demandada com o envelhecimento da população.\\n\\nOutrossim, salienta-se que o patriarcalismo enraizado na sociedade brasileira é outro fator que contribui para a falta de visibilidade do trabalho de cuidado desempenhado pela mulher no país, sendo a desconstrução dessa cultura de inferioridade feminina mais um desafio a ser superado para solucionar esse gravame social. Segundo preceitua a Constituição Federal, em seu artigo 5º, é objetivo do Estado a construção de uma sociedade justa e igualitária, sem distinção de gênero, raça, etc. No entanto, as mulheres ainda são prejudicadas quanto aos direitos trabalhistas, recebendo salários menores e não sendo valorizadas especialmente nos trabalhos realizados em ambientes domésticos. Dessa forma, é preciso que haja uma mudança cultural no pensamento patriarcal a fim de ampliar a importância desse trabalho de cuidado feminino com o reconhecimento das garantias constitucionais.\\n\\nÉ urgente, portanto, que medidas precisam ser tomadas para solucionar esse problema. Para tanto, o Congresso Nacional, por meio da elaboração de leis específicas, deve criar normas que assegurem a visibilidade do trabalho de cuidado existente no país, executado majoritariamente por mulheres, com a regulamentação de direitos trabalhistas para essa categoria, a fim de que essas trabalhadoras possam ter uma vida digna, uma jornada legal de trabalho e uma remuneração justa que lhes permita ter acesso à moradia, alimentação, saúde e lazer.',\n",
       " 'nome': 'Não fornecido',\n",
       " 'data_nascimento': '29/10/1988',\n",
       " 'sala': '617'}"
      ]
     },
     "execution_count": 25,
     "metadata": {},
     "output_type": "execute_result"
    }
   ],
   "source": [
    "response.tool_calls[0]['args']"
   ]
  },
  {
   "cell_type": "code",
   "execution_count": null,
   "metadata": {},
   "outputs": [],
   "source": []
  }
 ],
 "metadata": {
  "kernelspec": {
   "display_name": "env",
   "language": "python",
   "name": "python3"
  },
  "language_info": {
   "codemirror_mode": {
    "name": "ipython",
    "version": 3
   },
   "file_extension": ".py",
   "mimetype": "text/x-python",
   "name": "python",
   "nbconvert_exporter": "python",
   "pygments_lexer": "ipython3",
   "version": "3.10.11"
  }
 },
 "nbformat": 4,
 "nbformat_minor": 2
}
